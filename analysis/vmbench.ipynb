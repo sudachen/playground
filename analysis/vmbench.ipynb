{
 "cells": [
  {
   "cell_type": "code",
   "execution_count": 1,
   "metadata": {},
   "outputs": [],
   "source": [
    "import numpy as np\n",
    "import pandas as pd\n",
    "import matplotlib.pyplot as plt\n",
    "import matplotlib.mlab as mlab\n",
    "import toolkit as tk\n",
    "\n",
    "%matplotlib inline     "
   ]
  },
  {
   "cell_type": "code",
   "execution_count": 2,
   "metadata": {},
   "outputs": [
    {
     "name": "stdout",
     "output_type": "stream",
     "text": [
      "in the dir C:\\Projects\\_GoPkg_\\src\\github.com\\sudachen\\playground\\branch\\classic\\benchmarks\\benchvm\n",
      "\texecuting: go run benchmark.go\n",
      "in the dir C:\\Projects\\_GoPkg_\\src\\github.com\\sudachen\\playground\\branch\\sputnik\\benchmarks\\benchvm\n",
      "\texecuting: go run benchmark.go\n"
     ]
    }
   ],
   "source": [
    "base = \"classic\"\n",
    "target = \"sputnik\"\n",
    "benchlist = [base,target]\n",
    "\n",
    "Q1 = list(tk.run_benchmark(\"VM\", benchlist))\n"
   ]
  },
  {
   "cell_type": "code",
   "execution_count": 5,
   "metadata": {
    "scrolled": false
   },
   "outputs": [
    {
     "data": {
      "image/png": "[encoded data removed]",
      "text/plain": [
       "<matplotlib.figure.Figure at 0x2502b89af98>"
      ]
     },
     "metadata": {},
     "output_type": "display_data"
    }
   ],
   "source": [
    "L1 = list(tk.collect(tk.extract(Q1), target, tk.time_percent_of, base))\n",
    "\n",
    "fig,ax = plt.subplots(figsize=(16,6))\n",
    "pd.Series([l.active for l in L1 if l.active < 300 and l.active > 30 ]).hist(bins=50)\n",
    "plt.show()\n"
   ]
  },
  {
   "cell_type": "code",
   "execution_count": null,
   "metadata": {
    "collapsed": true
   },
   "outputs": [],
   "source": []
  }
 ],
 "metadata": {
  "kernelspec": {
   "display_name": "Python 3",
   "language": "python",
   "name": "python3"
  },
  "language_info": {
   "codemirror_mode": {
    "name": "ipython",
    "version": 3
   },
   "file_extension": ".py",
   "mimetype": "text/x-python",
   "name": "python",
   "nbconvert_exporter": "python",
   "pygments_lexer": "ipython3",
   "version": "3.6.3"
  }
 },
 "nbformat": 4,
 "nbformat_minor": 2
}
